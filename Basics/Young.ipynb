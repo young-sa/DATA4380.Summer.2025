{
 "cells": [
  {
   "cell_type": "markdown",
   "id": "edc0188d-5700-435b-b7b3-034d28b5ee47",
   "metadata": {},
   "source": [
    "## Exersise 1.\n",
    "\n",
    "cd ~/Desktop/Data4380\n",
    "\n",
    "mkdir o_zip\n",
    "\n",
    "mv *.zip o_zip/"
   ]
  },
  {
   "cell_type": "markdown",
   "id": "b4c4ae9f-22fe-4088-a36e-9fb716125d71",
   "metadata": {},
   "source": [
    "## Exersise 2.\n",
    "### First create 3 files with just the first line by redirecting output of head into a file using >.\n",
    "\n",
    "head -n 1 diabetes_prediction_dataset.csv > diabetes_part1.csv\n",
    "\n",
    "head -n 1 diabetes_prediction_dataset.csv > diabetes_part2.csv\n",
    " \n",
    "head -n 1 diabetes_prediction_dataset.csv > diabetes_part3.csv\n",
    "\n",
    "\n",
    "### Use wc to count the number of entries\n",
    " \n",
    "wc -l diabetes_prediction_dataset.csv\n",
    "\n",
    "### Chain/pipe head and tail to select specific lines, redirecting output to append to the 3 files you created using >>.\n",
    "tail -n +2 diabetes_prediction_dataset.csv | head -n 33333 >> diabetes_part1.csv\n",
    "\n",
    "tail -n +33335 diabetes_prediction_dataset.csv | head -n 33333 >> diabetes_part2.csv\n",
    "\n",
    "tail -n +66668 diabetes_prediction_dataset.csv >> diabetes_part3.csv"
   ]
  },
  {
   "cell_type": "markdown",
   "id": "1cc256fc-bb84-4009-a4a0-4c23628c2b04",
   "metadata": {},
   "source": [
    "## Exercise 3.\n",
    "### First create 2 files with just the first line by redirecting output of head into a file using >.\n",
    "head -n 1 Heart_Disease_Prediction.csv > heart_absence.csv\n",
    "\n",
    "head -n 1 Heart_Disease_Prediction.csv > heart_presence.csv\n",
    "\n",
    "### Use grep to select lines that contain \"Absence\" or \"Presence\" and append the output to the appropriate file created in the previous step.\n",
    "grep 'Absence' Heart_Disease_Prediction.csv >> heart_absence.csv\n",
    "grep 'Presence' Heart_Disease_Prediction.csv >> heart_presence.csv"
   ]
  },
  {
   "cell_type": "markdown",
   "id": "76a79f8b-1feb-442f-aa7c-22db23e857e7",
   "metadata": {},
   "source": [
    "## Exercise 4.\n",
    "### Use grep to select the appropriate lines.\n",
    "grep -i \"no accidents\" car_web_scraped_dataset.csv | wc -l\n",
    "tail -n +2 car_web_scraped_dataset.csv | wc -l\n",
    "\n",
    "### Pipe the output of grep into wc (using |) to count the lines.\n",
    "echo \"222 / 456\" | bc -l"
   ]
  },
  {
   "cell_type": "markdown",
   "id": "cd0911de-89cb-40b2-b4cd-0d6acc3f0d1e",
   "metadata": {},
   "source": [
    "## Exercise 5.\n",
    "### Use sed to do the replacement.\n",
    "### Use pipes to chain multiple sed commands.\n",
    "### To avoid replacing \"unfurnished\" or \"semi-furnished\" when performing the \"furnished\" replacement, try replacing \",furnished\" with \",1\".\n",
    "sed -e 's/\\byes\\b/1/g' \\\n",
    "    -e 's/\\bno\\b/0/g' \\\n",
    "    -e 's/,unfurnished/,0/g' \\\n",
    "    -e 's/,semi-furnished/,2/g' \\\n",
    "    -e 's/,furnished/,1/g' Housing.csv > Housing_transformed.csv"
   ]
  },
  {
   "cell_type": "markdown",
   "id": "68f43ff6-55c1-4e50-9815-071f9b3c4767",
   "metadata": {},
   "source": [
    "## Exercise 6.\n",
    "### Use cut command\n",
    "### Default separator for cut is the space character. For CSV, you have to use option -d ','\n",
    "cut -d ',' -f2- Mall_Customers.csv > Mall_Customers_noID.csv\n"
   ]
  },
  {
   "cell_type": "markdown",
   "id": "31c51e6e-f027-4ccc-bafe-0878ef8656ec",
   "metadata": {},
   "source": [
    "## Exercise 7.\n",
    "### Use cut to select the correct columns.\n",
    "### Use tr to replace ',' with '+'.\n",
    "### Pipe output into bc to compute the sum.\n",
    "tail -n +2 your_file.csv | cut -d ',' -f3,4,5,6 | \\\n",
    "tr ',' '+' | \\\n",
    "\n",
    "awk '{ print $0 \" = \" eval($0) }' > summed_scores.txt\n",
    "\n",
    "tail -n +2 your_file.csv | cut -d ',' -f3,4,5,6 | \\\n",
    "tr ',' '+' | \\\n",
    "\n",
    "while read expr; do echo \"$expr\" | bc; done > summed_scores.txt"
   ]
  },
  {
   "cell_type": "markdown",
   "id": "968856db-08e2-4d34-8ffd-1712b839e99b",
   "metadata": {},
   "source": [
    "## Exercise 8.\n",
    "### Use sort with -n, -t, and -k options.\n",
    "head -n 1 \"cancer patient data sets.csv\" > sorted_cancer.csv\n",
    "\n",
    "tail -n +2 \"cancer patient data sets.csv\" | sort -t ',' -k2,2n >> sorted_cancer.csv"
   ]
  }
 ],
 "metadata": {
  "kernelspec": {
   "display_name": "Python [conda env:base] *",
   "language": "python",
   "name": "conda-base-py"
  },
  "language_info": {
   "codemirror_mode": {
    "name": "ipython",
    "version": 3
   },
   "file_extension": ".py",
   "mimetype": "text/x-python",
   "name": "python",
   "nbconvert_exporter": "python",
   "pygments_lexer": "ipython3",
   "version": "3.12.7"
  }
 },
 "nbformat": 4,
 "nbformat_minor": 5
}
